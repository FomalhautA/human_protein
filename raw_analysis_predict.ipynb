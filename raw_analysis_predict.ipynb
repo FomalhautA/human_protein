{
 "cells": [
  {
   "cell_type": "code",
   "execution_count": 1,
   "metadata": {},
   "outputs": [
    {
     "name": "stdout",
     "output_type": "stream",
     "text": [
      "['result.csv', 'sample_submission.csv', 'test', 'test.zip', 'test_s', 'train', 'train.csv', 'train.zip', 'train_s']\n"
     ]
    }
   ],
   "source": [
    "# This Python 3 environment comes with many helpful analytics libraries installed\n",
    "# It is defined by the kaggle/python docker image: https://github.com/kaggle/docker-python\n",
    "# For example, here's several helpful packages to load in \n",
    "\n",
    "import numpy as np # linear algebra\n",
    "import pandas as pd # data processing, CSV file I/O (e.g. pd.read_csv)\n",
    "\n",
    "# Input data files are available in the \"../input/\" directory.\n",
    "# For example, running this (by clicking run or pressing Shift+Enter) will list the files in the input directory\n",
    "\n",
    "import os\n",
    "print(os.listdir(\"./Data\"))\n",
    "\n",
    "# Any results you write to the current directory are saved as output."
   ]
  },
  {
   "cell_type": "code",
   "execution_count": 2,
   "metadata": {},
   "outputs": [
    {
     "name": "stderr",
     "output_type": "stream",
     "text": [
      "Using TensorFlow backend.\n"
     ]
    }
   ],
   "source": [
    "import random\n",
    "import tensorflow as tf\n",
    "import keras\n",
    "import csv\n",
    "import seaborn as sns\n",
    "import matplotlib.pyplot as plt\n",
    "from PIL import Image\n",
    "from matplotlib.pyplot import imshow\n",
    "%matplotlib inline"
   ]
  },
  {
   "cell_type": "code",
   "execution_count": null,
   "metadata": {},
   "outputs": [],
   "source": []
  },
  {
   "cell_type": "code",
   "execution_count": 3,
   "metadata": {},
   "outputs": [],
   "source": [
    "df = pd.DataFrame()\n",
    "df = pd.read_csv(\"./PyCharm/performance_last/result.csv\")\n",
    "df.head()\n",
    "\n",
    "target = []\n",
    "ids = df.Id\n",
    "\n",
    "for item in df.Predicted:\n",
    "    if type(item) is not str:\n",
    "        item = str(item)\n",
    "    if item.split(' ') != [\"nan\"]:\n",
    "        target.append(item.split(' '))\n",
    "    else:\n",
    "        target.append([])\n",
    "\n",
    "target_int = [[int(item) for item in targ]for targ in target]\n",
    "lengthes = [len(item) for item in target]"
   ]
  },
  {
   "cell_type": "code",
   "execution_count": 4,
   "metadata": {},
   "outputs": [],
   "source": [
    "importances = [0, 25, 21, 2, 23, 7, 5, 4, 3, 19, 1, 11, 14, 6, 18, 22, 12, 13, 16, 24, 26, 20, 17, 8, 9, 10, 15, 27]"
   ]
  },
  {
   "cell_type": "code",
   "execution_count": 5,
   "metadata": {},
   "outputs": [],
   "source": [
    "def pick_(target_int, importances, threshold=5):\n",
    "    res = []\n",
    "    for item in target_int:\n",
    "        if len(target_int) > threshold:\n",
    "            idx = 0\n",
    "            temp = []\n",
    "            for num in importances:\n",
    "                if num in item:\n",
    "                    temp.append(num)\n",
    "                    idx += 1\n",
    "                    if idx == threshold:\n",
    "                        break\n",
    "            res.append(temp)\n",
    "        else:\n",
    "            res.append(item)\n",
    "    \n",
    "    return res\n",
    "  "
   ]
  },
  {
   "cell_type": "code",
   "execution_count": 6,
   "metadata": {},
   "outputs": [
    {
     "name": "stdout",
     "output_type": "stream",
     "text": [
      "counts:  [3, 127, 625, 1509, 2167, 2360, 1955, 1409, 841, 439, 173, 75, 14, 4, 1]\n",
      "labels:  ['0', '1', '2', '3', '4', '5', '6', '7', '8', '9', '10', '11', '12', '13', '14']\n",
      "data scale:  11702\n",
      "ratio:  [0.0003, 0.0109, 0.0534, 0.129, 0.1852, 0.2017, 0.1671, 0.1204, 0.0719, 0.0375, 0.0148, 0.0064, 0.0012, 0.0003, 0.0001]\n"
     ]
    }
   ],
   "source": [
    "labels = []\n",
    "counts = []\n",
    "for item in set(lengthes):\n",
    "    labels.append(str(item))\n",
    "    counts.append(lengthes.count(item))\n",
    "\n",
    "print(\"counts: \", counts)\n",
    "print(\"labels: \", labels)\n",
    "print(\"data scale: \", np.sum(counts))\n",
    "\n",
    "ratio = np.array(counts) / np.sum(counts)\n",
    "ratio = [round(item, 4) for item in ratio]\n",
    "\n",
    "print(\"ratio: \", ratio)"
   ]
  },
  {
   "cell_type": "code",
   "execution_count": 7,
   "metadata": {},
   "outputs": [],
   "source": [
    "def  encoder(targets, class_cnt=28):\n",
    "    total = len(targets)\n",
    "    k_f = 28\n",
    "    f_mat = np.zeros((total, k_f))\n",
    "    idx = 0\n",
    "    for idx, item in enumerate(targets):\n",
    "        for num in item:\n",
    "            f_mat[idx][num] = 1\n",
    "    \n",
    "    return f_mat"
   ]
  },
  {
   "cell_type": "code",
   "execution_count": 8,
   "metadata": {},
   "outputs": [],
   "source": [
    "def primary_set():\n",
    "    one_class = []\n",
    "    two_class = []\n",
    "    three_class = []\n",
    "    one_ids = []\n",
    "    two_ids = []\n",
    "    three_ids = []\n",
    "    for idx, item in enumerate(lengthes):\n",
    "        if item == 1 and target[idx][0] != 'nan':\n",
    "            one_class.append(target[idx])\n",
    "            one_ids.append(ids[idx])\n",
    "        if item == 2:\n",
    "            two_class.append(target[idx])\n",
    "            two_ids.append(ids[idx])\n",
    "        if item == 3:\n",
    "            three_class.append(target[idx])\n",
    "            three_ids.append(ids[idx])\n",
    "\n",
    "    one_class_int = [int(item[0]) for item in one_class]\n",
    "    two_class_int = []\n",
    "    three_class_int = []\n",
    "\n",
    "    for item in two_class:\n",
    "        a = np.array(item).astype('int')\n",
    "        a.sort()\n",
    "        two_class_int.append(a)\n",
    "\n",
    "    for item in three_class:\n",
    "        a = np.array(item).astype('int')\n",
    "        a.sort()\n",
    "        three_class_int.append(a)\n",
    "\n",
    "    one_class = [item[0] for item in one_class]\n",
    "    print(\"****************************************\")\n",
    "    print(\"one_class scale: \", len(set(one_class)))\n",
    "    two_class = [str(item[0]) + \"-\" + str(item[1]) for item in two_class_int]\n",
    "    print(\"****************************************\")\n",
    "    print(\"two_class scale: \", len(set(two_class)))\n",
    "    three_class = [str(item[0]) + \"-\" + str(item[1]) + \"-\" + str(item[2]) for item in three_class_int]\n",
    "    print(\"****************************************\")\n",
    "    print(\"three_class scale: \", len(set(three_class)))\n",
    "    \n",
    "    return one_class, two_class, three_class, one_ids, two_ids, three_ids, one_class_int, two_class_int, three_class_int"
   ]
  },
  {
   "cell_type": "code",
   "execution_count": null,
   "metadata": {},
   "outputs": [],
   "source": []
  },
  {
   "cell_type": "code",
   "execution_count": 9,
   "metadata": {},
   "outputs": [],
   "source": [
    "def sort_count(source, order=-1):\n",
    "    label = np.array(list(set(source)))\n",
    "    count_arr = np.array([source.count(item) for item in label])\n",
    "\n",
    "    idx = np.argsort(-count_arr)\n",
    "\n",
    "    label = label[idx]\n",
    "    count_arr = count_arr[idx]\n",
    "    \n",
    "    return label, count_arr"
   ]
  },
  {
   "cell_type": "code",
   "execution_count": 10,
   "metadata": {},
   "outputs": [],
   "source": [
    "def show_importance(label, count_arr, first_=30):\n",
    "\n",
    "    for i, item in enumerate(count_arr):\n",
    "        if item < abandon_threshold:\n",
    "            break\n",
    "\n",
    "    total = np.sum(count_arr)\n",
    "    print(\"sample scale: \", total)\n",
    "    print(i, \"types picked!\")\n",
    "    label = label[:first_]\n",
    "    count_arr = count_arr[:first_]\n",
    "    count_aban = total-np.sum(count_arr)\n",
    "    print(\"Sample Abandoned: \", count_aban)\n",
    "    print(\"Abandoned Ratio: \", round(count_aban/total, 4))\n",
    "    print(\"Abandon Count: \", count_arr[-1])\n",
    "    fig, axes = plt.subplots(2, 1, figsize=(25, 8))\n",
    "    sns.barplot(label, count_arr, order=label, ax=axes[0])\n",
    "    sns.barplot(label, count_arr/total, order=label, ax=axes[1])\n",
    "    plt.show()"
   ]
  },
  {
   "cell_type": "code",
   "execution_count": 11,
   "metadata": {},
   "outputs": [
    {
     "name": "stdout",
     "output_type": "stream",
     "text": [
      "****************************************\n",
      "one_class scale:  17\n",
      "****************************************\n",
      "two_class scale:  121\n",
      "****************************************\n",
      "three_class scale:  450\n"
     ]
    }
   ],
   "source": [
    "abandon_threshold = 0\n",
    "one_class, two_class, three_class, one_ids, two_ids, three_ids, one_class_int, two_class_int, three_class_int = primary_set()"
   ]
  },
  {
   "cell_type": "code",
   "execution_count": 12,
   "metadata": {},
   "outputs": [
    {
     "name": "stdout",
     "output_type": "stream",
     "text": [
      "sample scale:  127\n",
      "16 types picked!\n",
      "Sample Abandoned:  0\n",
      "Abandoned Ratio:  0.0\n",
      "Abandon Count:  1\n"
     ]
    },
    {
     "data": {
      "image/png": "[encoded data removed]",
      "text/plain": [
       "<Figure size 1800x576 with 2 Axes>"
      ]
     },
     "metadata": {
      "needs_background": "light"
     },
     "output_type": "display_data"
    }
   ],
   "source": [
    "x_one, y_one = sort_count(one_class)\n",
    "show_importance(x_one, y_one)"
   ]
  },
  {
   "cell_type": "code",
   "execution_count": 13,
   "metadata": {},
   "outputs": [
    {
     "name": "stdout",
     "output_type": "stream",
     "text": [
      "sample scale:  625\n",
      "120 types picked!\n",
      "Sample Abandoned:  232\n",
      "Abandoned Ratio:  0.3712\n",
      "Abandon Count:  8\n"
     ]
    },
    {
     "data": {
      "image/png": "[encoded data removed]",
      "text/plain": [
       "<Figure size 1800x576 with 2 Axes>"
      ]
     },
     "metadata": {
      "needs_background": "light"
     },
     "output_type": "display_data"
    }
   ],
   "source": [
    "x_two, y_two = sort_count(two_class)\n",
    "show_importance(x_two, y_two,first_=25)"
   ]
  },
  {
   "cell_type": "code",
   "execution_count": 14,
   "metadata": {},
   "outputs": [
    {
     "name": "stdout",
     "output_type": "stream",
     "text": [
      "sample scale:  1509\n",
      "449 types picked!\n",
      "Sample Abandoned:  991\n",
      "Abandoned Ratio:  0.6567\n",
      "Abandon Count:  10\n"
     ]
    },
    {
     "data": {
      "image/png": "[encoded data removed]",
      "text/plain": [
       "<Figure size 1800x576 with 2 Axes>"
      ]
     },
     "metadata": {
      "needs_background": "light"
     },
     "output_type": "display_data"
    }
   ],
   "source": [
    "x_three, y_three = sort_count(three_class)\n",
    "show_importance(x_three, y_three, first_=30)"
   ]
  },
  {
   "cell_type": "code",
   "execution_count": 15,
   "metadata": {},
   "outputs": [],
   "source": [
    "ids.shape\n",
    "\n",
    "x = np.hstack([x_one, x_two, x_three])\n",
    "y = np.hstack([y_one, y_two, y_three])\n",
    "ids_prim = np.hstack([one_ids, two_ids, three_ids])\n",
    "\n",
    "idx = np.argsort(-y)\n",
    "\n",
    "x = x[idx]\n",
    "y = y[idx]"
   ]
  },
  {
   "cell_type": "code",
   "execution_count": 16,
   "metadata": {},
   "outputs": [
    {
     "name": "stdout",
     "output_type": "stream",
     "text": [
      "sample scale:  2261\n",
      "587 types picked!\n",
      "Sample Abandoned:  1596\n",
      "Abandoned Ratio:  0.7059\n",
      "Abandon Count:  14\n"
     ]
    },
    {
     "data": {
      "image/png": "[encoded data removed]",
      "text/plain": [
       "<Figure size 1800x576 with 2 Axes>"
      ]
     },
     "metadata": {
      "needs_background": "light"
     },
     "output_type": "display_data"
    }
   ],
   "source": [
    "ids_prim.shape\n",
    "show_importance(x, y, first_=30)"
   ]
  },
  {
   "cell_type": "code",
   "execution_count": 17,
   "metadata": {},
   "outputs": [
    {
     "name": "stdout",
     "output_type": "stream",
     "text": [
      "[0.0186, 0.0159, 0.015, 0.0128, 0.0119, 0.0111, 0.0111, 0.0111, 0.0106, 0.0106, 0.0102, 0.0102, 0.0102, 0.0097, 0.0097, 0.0088, 0.0088, 0.0088, 0.0088, 0.0088, 0.0084, 0.008, 0.0075, 0.0075, 0.0071, 0.0071, 0.0066, 0.0066, 0.0062, 0.0062, 0.0062, 0.0062, 0.0062, 0.0057, 0.0057, 0.0057, 0.0057, 0.0053, 0.0053, 0.0053, 0.0053, 0.0053, 0.0049, 0.0049, 0.0049, 0.0049, 0.0049, 0.0049, 0.0049, 0.0044] 0.4005\n"
     ]
    }
   ],
   "source": [
    "total = np.sum(y)\n",
    "\n",
    "ratio = [round(item, 4) for item in y / total]\n",
    "\n",
    "pick = 50\n",
    "print(ratio[:pick], np.sum(ratio[:pick]))"
   ]
  },
  {
   "cell_type": "code",
   "execution_count": 18,
   "metadata": {},
   "outputs": [
    {
     "data": {
      "text/plain": [
       "[<matplotlib.lines.Line2D at 0x1e5dfa7def0>]"
      ]
     },
     "execution_count": 18,
     "metadata": {},
     "output_type": "execute_result"
    },
    {
     "data": {
      "image/png": "[encoded data removed]",
      "text/plain": [
       "<Figure size 432x288 with 1 Axes>"
      ]
     },
     "metadata": {
      "needs_background": "light"
     },
     "output_type": "display_data"
    }
   ],
   "source": [
    "acc_ratio = [np.sum(ratio[:i]) for i in range(1, len(ratio)+1)]\n",
    "\n",
    "plt.plot(acc_ratio)"
   ]
  },
  {
   "cell_type": "code",
   "execution_count": 19,
   "metadata": {},
   "outputs": [],
   "source": [
    "def class_encode(one_class_int, two_class_int, three_class_int, f_scale=28):\n",
    "    \"\"\"\n",
    "    \n",
    "    \"\"\"\n",
    "    total = len(one_class_int) + len(two_class_int) + len(three_class_int)\n",
    "    k_f = 28\n",
    "    f_mat = np.zeros((total, k_f))\n",
    "    idx = 0\n",
    "    for item in one_class_int:\n",
    "        f_mat[idx][item] = 1\n",
    "        idx += 1\n",
    "\n",
    "    for item in two_class_int:\n",
    "        for num in item:\n",
    "            f_mat[idx][num] = 1\n",
    "        idx += 1\n",
    "\n",
    "    for item in three_class_int:\n",
    "        for num in item:\n",
    "            f_mat[idx][num] = 1\n",
    "        idx += 1\n",
    "    \n",
    "    return f_mat"
   ]
  },
  {
   "cell_type": "code",
   "execution_count": 20,
   "metadata": {},
   "outputs": [],
   "source": [
    "def mat_to_dict(ids, f_mat):\n",
    "    res = dict()\n",
    "    for id_, f in zip(ids, f_mat):\n",
    "        res[id_] = f\n",
    "    \n",
    "    return res"
   ]
  },
  {
   "cell_type": "code",
   "execution_count": 21,
   "metadata": {},
   "outputs": [],
   "source": [
    "def fmat_importance(f_mat):\n",
    "    f_dict = mat_to_dict(ids, f_mat)\n",
    "    df_fmat = pd.DataFrame(f_mat)\n",
    "\n",
    "    count = np.sum(f_mat, axis=0)\n",
    "    count.shape\n",
    "    n = count.shape[0]\n",
    "\n",
    "    label = np.array([item for item in range(n)])\n",
    "\n",
    "    idx = np.argsort(-count)\n",
    "    count_ord = count[idx]\n",
    "    label_ord = label[idx]\n",
    "\n",
    "    show_importance(label_ord, count_ord)"
   ]
  },
  {
   "cell_type": "code",
   "execution_count": 22,
   "metadata": {},
   "outputs": [],
   "source": [
    "# ids = np.hstack([one_ids, two_ids, three_ids])\n",
    "# print(ids.shape)"
   ]
  },
  {
   "cell_type": "code",
   "execution_count": 23,
   "metadata": {},
   "outputs": [
    {
     "name": "stdout",
     "output_type": "stream",
     "text": [
      "(11702, 28)\n"
     ]
    }
   ],
   "source": [
    "# f_mat = class_encode(one_class_int, two_class_int, three_class_int)\n",
    "f_mat = encoder(target_int)\n",
    "print(f_mat.shape)\n"
   ]
  },
  {
   "cell_type": "code",
   "execution_count": 24,
   "metadata": {},
   "outputs": [
    {
     "name": "stdout",
     "output_type": "stream",
     "text": [
      "sample scale:  61433.0\n",
      "27 types picked!\n",
      "Sample Abandoned:  0.0\n",
      "Abandoned Ratio:  0.0\n",
      "Abandon Count:  17.0\n"
     ]
    },
    {
     "data": {
      "image/png": "[encoded data removed]",
      "text/plain": [
       "<Figure size 1800x576 with 2 Axes>"
      ]
     },
     "metadata": {
      "needs_background": "light"
     },
     "output_type": "display_data"
    }
   ],
   "source": [
    "fmat_importance(f_mat)"
   ]
  },
  {
   "cell_type": "code",
   "execution_count": 27,
   "metadata": {},
   "outputs": [],
   "source": [
    "target_int_picked = pick_(target_int, importances, threshold=7)\n"
   ]
  },
  {
   "cell_type": "code",
   "execution_count": 28,
   "metadata": {},
   "outputs": [
    {
     "name": "stdout",
     "output_type": "stream",
     "text": [
      "sample scale:  58794.0\n",
      "27 types picked!\n",
      "Sample Abandoned:  0.0\n",
      "Abandoned Ratio:  0.0\n",
      "Abandon Count:  8.0\n"
     ]
    },
    {
     "data": {
      "image/png": "[encoded data removed]",
      "text/plain": [
       "<Figure size 1800x576 with 2 Axes>"
      ]
     },
     "metadata": {
      "needs_background": "light"
     },
     "output_type": "display_data"
    }
   ],
   "source": [
    "f_mat_picked = encoder(target_int_picked)\n",
    "fmat_importance(f_mat_picked)"
   ]
  },
  {
   "cell_type": "code",
   "execution_count": 33,
   "metadata": {},
   "outputs": [],
   "source": [
    "def convert_to_str(item):\n",
    "    res = \"\"\n",
    "    for label in item:\n",
    "        res += str(label) + \" \"\n",
    "    \n",
    "    if res == \"\":\n",
    "        res = \"0\"\n",
    "    else:\n",
    "        res = res[:-1]\n",
    "        \n",
    "    return res"
   ]
  },
  {
   "cell_type": "code",
   "execution_count": 34,
   "metadata": {},
   "outputs": [],
   "source": [
    "def write_to_result(target_int, ids):\n",
    "    rows = []\n",
    "    for id_, target in zip(ids, target_int):\n",
    "        target_str = convert_to_str(target)\n",
    "        rows.append([id_, target_str])\n",
    "    return rows\n",
    "    "
   ]
  },
  {
   "cell_type": "code",
   "execution_count": 35,
   "metadata": {},
   "outputs": [],
   "source": [
    "def save_to_file(target_int, ids, filename):\n",
    "    rows = write_to_result(target_int, ids)\n",
    "    resfile = open(filename, \"w\", newline=\"\")\n",
    "    res_writer = csv.writer(resfile)\n",
    "    res_writer.writerow([\"Id\", \"Predicted\"])\n",
    "\n",
    "    for row in rows:\n",
    "        res_writer.writerow(row)\n",
    "\n",
    "    resfile.close()"
   ]
  },
  {
   "cell_type": "code",
   "execution_count": 36,
   "metadata": {},
   "outputs": [
    {
     "name": "stdout",
     "output_type": "stream",
     "text": [
      "11702 11702 11702\n"
     ]
    }
   ],
   "source": [
    "print(len(target_int_picked), len(target_int), len(ids))"
   ]
  },
  {
   "cell_type": "code",
   "execution_count": 37,
   "metadata": {},
   "outputs": [],
   "source": [
    "save_to_file(target_int_picked, ids, filename=\"./PyCharm/performance_last/result_picked_7.csv\")"
   ]
  },
  {
   "cell_type": "code",
   "execution_count": 22,
   "metadata": {},
   "outputs": [
    {
     "name": "stdout",
     "output_type": "stream",
     "text": [
      "[(0, 681), (1, 181), (2, 524), (3, 321), (4, 433), (5, 237), (6, 152), (7, 521), (8, 41), (9, 4), (10, 0), (11, 304), (12, 101), (13, 74), (14, 142), (15, 3), (16, 74), (17, 23), (18, 138), (19, 292), (20, 20), (21, 368), (22, 135), (23, 619), (24, 124), (25, 332), (26, 60), (27, 0)]\n"
     ]
    }
   ],
   "source": [
    "f_mat.astype('int')\n",
    "print([(l, int(c)) for (l, c) in zip(label, count)])"
   ]
  },
  {
   "cell_type": "code",
   "execution_count": 24,
   "metadata": {},
   "outputs": [],
   "source": [
    "cross = np.zeros((n, n))\n",
    "cross_pre = np.zeros((n, n))\n",
    "cross_post = np.zeros((n, n))\n",
    "\n",
    "i = 0\n",
    "while i < n:\n",
    "    j = i+1\n",
    "    while j < n:\n",
    "        for item in f_mat:\n",
    "            if item[i] == 1 and item[j] == 1:\n",
    "                cross[i][j] += 1\n",
    "        j += 1\n",
    "    i += 1\n",
    "\n",
    "    \n",
    "cross_ratio = []\n",
    "cross_ = np.zeros(cross.shape)\n",
    "i = 0\n",
    "while i < n:\n",
    "    j = i+1\n",
    "    while j < n:\n",
    "        if count[i] + count[j] > 0:\n",
    "#             print((i, j), (round(cross[i][j], 4), int(count[i]), int(count[j])))\n",
    "            if cross[i][j] > 0:\n",
    "                cross_pre[i][j] = cross[i][j] / count[i]\n",
    "                cross_post[i][j] = cross[i][j] / count[j]\n",
    "            cross_[i][j] = cross[i][j] / (count[i] + count[j] - cross[i][j])\n",
    "            cross_ratio.append((round(cross_[i][j], 4), cross[i][j], round(cross_pre[i][j], 4), round(cross_post[i][j], 4)))\n",
    "        j += 1\n",
    "    i += 1\n"
   ]
  },
  {
   "cell_type": "code",
   "execution_count": 25,
   "metadata": {},
   "outputs": [
    {
     "name": "stdout",
     "output_type": "stream",
     "text": [
      "[0.2012, 0.0269, 0.0644, 0.0273, 0.0342, 0.0542, 0.0158, 0.0349, 0.0005, 0.6222, 0.0, 0.0135, 0.0288, 0.0238, 0.0648, 0.0183, 0.0711, 0.035, 0.0287, 0.0285, 0.0055, 0.077, 0.0107, 0.0179, 0.0063, 0.0065, 0.0, 0.0]\n"
     ]
    },
    {
     "data": {
      "text/plain": [
       "<matplotlib.axes._subplots.AxesSubplot at 0x24df067fd30>"
      ]
     },
     "execution_count": 25,
     "metadata": {},
     "output_type": "execute_result"
    },
    {
     "data": {
      "image/png": "[encoded data removed]",
      "text/plain": [
       "<Figure size 432x288 with 2 Axes>"
      ]
     },
     "metadata": {
      "needs_background": "light"
     },
     "output_type": "display_data"
    }
   ],
   "source": [
    "# cross ratio\n",
    "print([round(item, 4) for item in np.max(cross_, axis=1)])\n",
    "cmap = sns.diverging_palette(220, 10, as_cmap=True)\n",
    "sns.heatmap(cross_, vmax=.65, cmap=cmap, vmin=0., square=True)"
   ]
  },
  {
   "cell_type": "code",
   "execution_count": 26,
   "metadata": {},
   "outputs": [
    {
     "name": "stdout",
     "output_type": "stream",
     "text": [
      "[0.274, 0.2018, 0.1993, 0.1654, 0.1772, 0.2175, 0.1408, 0.132, 0.0377, 0.6222, 0.0, 0.1126, 0.2187, 0.2083, 0.1401, 0.4286, 0.261, 0.3195, 0.286, 0.18, 0.0988, 0.2284, 0.1186, 0.0655, 0.1625, 0.0067, 0.0, 0.0]\n"
     ]
    },
    {
     "data": {
      "text/plain": [
       "<matplotlib.axes._subplots.AxesSubplot at 0x24deeafc128>"
      ]
     },
     "execution_count": 26,
     "metadata": {},
     "output_type": "execute_result"
    },
    {
     "data": {
      "image/png": "[encoded data removed]",
      "text/plain": [
       "<Figure size 432x288 with 2 Axes>"
      ]
     },
     "metadata": {
      "needs_background": "light"
     },
     "output_type": "display_data"
    }
   ],
   "source": [
    "# precious cross ratio\n",
    "print([round(item, 4) for item in np.max(cross_pre, axis=1)])\n",
    "cmap = sns.diverging_palette(220, 10, as_cmap=True)\n",
    "sns.heatmap(cross_pre, vmax=.05, cmap=cmap, vmin=0., square=True)"
   ]
  },
  {
   "cell_type": "code",
   "execution_count": 27,
   "metadata": {},
   "outputs": [
    {
     "name": "stdout",
     "output_type": "stream",
     "text": [
      "[0.6364, 0.0335, 0.4762, 0.0755, 0.0909, 0.381, 0.3929, 0.0772, 0.0005, 1.0, 0.0, 0.0562, 0.0331, 0.0265, 0.2189, 0.0188, 0.2544, 0.0404, 0.0312, 0.0909, 0.0058, 0.1518, 0.0156, 0.1818, 0.0065, 0.1698, 0.0, 0.0]\n"
     ]
    },
    {
     "data": {
      "text/plain": [
       "<matplotlib.axes._subplots.AxesSubplot at 0x24deb56e2b0>"
      ]
     },
     "execution_count": 27,
     "metadata": {},
     "output_type": "execute_result"
    },
    {
     "data": {
      "image/png": "[encoded data removed]",
      "text/plain": [
       "<Figure size 432x288 with 2 Axes>"
      ]
     },
     "metadata": {
      "needs_background": "light"
     },
     "output_type": "display_data"
    }
   ],
   "source": [
    "# post cross ratio\n",
    "print([round(item, 4) for item in np.max(cross_post, axis=1)])\n",
    "cmap = sns.diverging_palette(220, 10, as_cmap=True)\n",
    "sns.heatmap(cross_post, vmax=.05, cmap=cmap, vmin=0., square=True)"
   ]
  },
  {
   "cell_type": "code",
   "execution_count": 28,
   "metadata": {},
   "outputs": [],
   "source": [
    "def show_corr_importance(corr, first_=10):\n",
    "    importance = []\n",
    "    n, n = corr.shape\n",
    "    i = 0\n",
    "    while i < n:\n",
    "        j = i + 1\n",
    "        while j < n:\n",
    "            importance.append([i, j, round(corr[i][j], 4)])\n",
    "            j += 1\n",
    "        i += 1\n",
    "    \n",
    "    importance = np.array(importance)\n",
    "    idx = np.argsort(-importance[:, 2])\n",
    "    f1 = importance[:, 0][idx]\n",
    "    f2 = importance[:, 1][idx]\n",
    "    c = importance[:, 2][idx]\n",
    "    \n",
    "    importance = np.vstack([f1, f2, c])\n",
    "    importance = importance.T\n",
    "    \n",
    "    print(\"Positive correlation: \")\n",
    "    for i in range(first_):\n",
    "        print(i, \": \", (int(importance[i][0]), int(importance[i][1])), importance[i][2])\n",
    "    \n",
    "    print(\"Negtive correlation: \")\n",
    "    for i in range(first_):\n",
    "        print(i, \": \", (int(importance[-i-1][0]), int(importance[-i-1][1])), importance[-i-1][2])\n",
    "    \n"
   ]
  },
  {
   "cell_type": "code",
   "execution_count": 29,
   "metadata": {},
   "outputs": [
    {
     "name": "stdout",
     "output_type": "stream",
     "text": [
      "Positive correlation: \n",
      "0 :  (14, 16) 0.1109\n",
      "1 :  (6, 9) 0.0459\n",
      "2 :  (0, 2) 0.04\n",
      "3 :  (12, 21) 0.0292\n",
      "4 :  (13, 21) 0.0288\n",
      "5 :  (0, 25) 0.025\n",
      "6 :  (0, 16) 0.0222\n",
      "7 :  (0, 1) 0.0206\n",
      "8 :  (5, 27) 0.0196\n",
      "9 :  (21, 22) 0.0165\n",
      "Negtive correlation: \n",
      "0 :  (0, 4) -0.1868\n",
      "1 :  (23, 25) -0.1448\n",
      "2 :  (0, 6) -0.1235\n",
      "3 :  (7, 23) -0.0994\n",
      "4 :  (21, 23) -0.0987\n",
      "5 :  (0, 23) -0.0953\n",
      "6 :  (7, 25) -0.092\n",
      "7 :  (2, 5) -0.0858\n",
      "8 :  (0, 14) -0.0809\n",
      "9 :  (2, 3) -0.0802\n"
     ]
    }
   ],
   "source": [
    "corr = df_fmat.corr()\n",
    "n, n = corr.shape\n",
    "for i in range(n):\n",
    "    corr[i][10] = 0\n",
    "    corr[10][i] = 0\n",
    "    corr[i][15] = 0\n",
    "    corr[15][i] = 0\n",
    "    corr[i][17] = 0\n",
    "    corr[17][i] = 0\n",
    "\n",
    "show_corr_importance(corr)\n"
   ]
  },
  {
   "cell_type": "code",
   "execution_count": 30,
   "metadata": {},
   "outputs": [
    {
     "data": {
      "text/plain": [
       "<matplotlib.axes._subplots.AxesSubplot at 0x24dee954438>"
      ]
     },
     "execution_count": 30,
     "metadata": {},
     "output_type": "execute_result"
    },
    {
     "data": {
      "image/png": "[encoded data removed]",
      "text/plain": [
       "<Figure size 720x720 with 2 Axes>"
      ]
     },
     "metadata": {
      "needs_background": "light"
     },
     "output_type": "display_data"
    }
   ],
   "source": [
    "mask = np.zeros_like(corr, dtype=np.bool)\n",
    "mask[np.triu_indices_from(mask)] = True\n",
    "\n",
    "cmap = sns.diverging_palette(220, 10, as_cmap=True)\n",
    "\n",
    "fig, axes = plt.subplots(1, 1, figsize=(10, 10))\n",
    "sns.heatmap(corr, mask=mask, vmax=0.15, vmin=-0.2, cmap=cmap, square=True, ax=axes)"
   ]
  },
  {
   "cell_type": "code",
   "execution_count": 8,
   "metadata": {},
   "outputs": [
    {
     "data": {
      "text/plain": [
       "112.0"
      ]
     },
     "execution_count": 8,
     "metadata": {},
     "output_type": "execute_result"
    }
   ],
   "source": [
    "(64*64+9*64*192)/1024"
   ]
  },
  {
   "cell_type": "code",
   "execution_count": 9,
   "metadata": {},
   "outputs": [
    {
     "data": {
      "text/plain": [
       "159.5"
      ]
     },
     "execution_count": 9,
     "metadata": {},
     "output_type": "execute_result"
    }
   ],
   "source": [
    "(192*64+192*96+3*3*96*128+192*16+5*5*16*32+192*32)/1024"
   ]
  },
  {
   "cell_type": "code",
   "execution_count": 11,
   "metadata": {},
   "outputs": [
    {
     "data": {
      "text/plain": [
       "379.0"
      ]
     },
     "execution_count": 11,
     "metadata": {},
     "output_type": "execute_result"
    }
   ],
   "source": [
    "(256*128+256*128+9*128*192+256*32+25*32*96+256*64)/1024"
   ]
  },
  {
   "cell_type": "code",
   "execution_count": 12,
   "metadata": {},
   "outputs": [
    {
     "data": {
      "text/plain": [
       "366.75"
      ]
     },
     "execution_count": 12,
     "metadata": {},
     "output_type": "execute_result"
    }
   ],
   "source": [
    "(480*192+480*96+9*96*208+480*16+25*16*48+480*64)/1024"
   ]
  },
  {
   "cell_type": "code",
   "execution_count": 13,
   "metadata": {},
   "outputs": [],
   "source": [
    "def params_count(inp, p1, pr3, p3, pr5, p5, pm):\n",
    "    return inp*p1 + inp*pr3 + 9*pr3*p3 + inp*pr5 + 25*pr5*p5 + inp*pm"
   ]
  },
  {
   "cell_type": "code",
   "execution_count": 15,
   "metadata": {},
   "outputs": [
    {
     "data": {
      "text/plain": [
       "438.0"
      ]
     },
     "execution_count": 15,
     "metadata": {},
     "output_type": "execute_result"
    }
   ],
   "source": [
    "params_count(512, 160, 112, 224, 24, 64, 64)/1024"
   ]
  },
  {
   "cell_type": "code",
   "execution_count": 18,
   "metadata": {},
   "outputs": [
    {
     "data": {
      "text/plain": [
       "497.5"
      ]
     },
     "execution_count": 18,
     "metadata": {},
     "output_type": "execute_result"
    }
   ],
   "source": [
    "params_count(512, 128, 128, 256, 24, 64, 64)/1024"
   ]
  },
  {
   "cell_type": "code",
   "execution_count": 19,
   "metadata": {},
   "outputs": [
    {
     "data": {
      "text/plain": [
       "590.5"
      ]
     },
     "execution_count": 19,
     "metadata": {},
     "output_type": "execute_result"
    }
   ],
   "source": [
    "params_count(512, 112, 144, 288, 32, 64, 64)/1024"
   ]
  },
  {
   "cell_type": "code",
   "execution_count": 20,
   "metadata": {},
   "outputs": [
    {
     "data": {
      "text/plain": [
       "847.0"
      ]
     },
     "execution_count": 20,
     "metadata": {},
     "output_type": "execute_result"
    }
   ],
   "source": [
    "params_count(528, 256, 160, 320, 32, 128, 128)/1024"
   ]
  },
  {
   "cell_type": "code",
   "execution_count": 21,
   "metadata": {},
   "outputs": [
    {
     "data": {
      "text/plain": [
       "1018.0"
      ]
     },
     "execution_count": 21,
     "metadata": {},
     "output_type": "execute_result"
    }
   ],
   "source": [
    "params_count(832, 256, 160, 320, 32, 128, 128)/1024"
   ]
  },
  {
   "cell_type": "code",
   "execution_count": 22,
   "metadata": {},
   "outputs": [
    {
     "data": {
      "text/plain": [
       "1409.0"
      ]
     },
     "execution_count": 22,
     "metadata": {},
     "output_type": "execute_result"
    }
   ],
   "source": [
    "params_count(832, 384, 192, 384, 48, 128, 128)/1024"
   ]
  },
  {
   "cell_type": "code",
   "execution_count": 23,
   "metadata": {},
   "outputs": [
    {
     "data": {
      "text/plain": [
       "27.34375"
      ]
     },
     "execution_count": 23,
     "metadata": {},
     "output_type": "execute_result"
    }
   ],
   "source": [
    "28000/1024"
   ]
  },
  {
   "cell_type": "code",
   "execution_count": null,
   "metadata": {},
   "outputs": [],
   "source": []
  }
 ],
 "metadata": {
  "kernelspec": {
   "display_name": "Python 3",
   "language": "python",
   "name": "python3"
  },
  "language_info": {
   "codemirror_mode": {
    "name": "ipython",
    "version": 3
   },
   "file_extension": ".py",
   "mimetype": "text/x-python",
   "name": "python",
   "nbconvert_exporter": "python",
   "pygments_lexer": "ipython3",
   "version": "3.6.3"
  }
 },
 "nbformat": 4,
 "nbformat_minor": 2
}
